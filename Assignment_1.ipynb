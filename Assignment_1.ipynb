{
  "metadata": {
    "language_info": {
      "name": ""
    },
    "kernelspec": {
      "name": "",
      "display_name": ""
    }
  },
  "nbformat_minor": 4,
  "nbformat": 4,
  "cells": [
    {
      "cell_type": "markdown",
      "source": "Assignment 1 \n\nClassify as values or an expression",
      "metadata": {}
    },
    {
      "cell_type": "markdown",
      "source": "1) expression\n\n2) string value\n\n3) float value\n\n4) expression (subtraction mathematical operator)\n\n5) expression (division mathematical operator)\n\n6) expression (Addition mathematical operator)\n\n7) int value",
      "metadata": {}
    },
    {
      "cell_type": "markdown",
      "source": "2. string is a datatype whereas variable stores data of any type (variable is like a container where string can).\n\n3.  a) float  b) int c) string\n\n4. An expression consists of some operations resulting which after evaluation results into an output.\n\n5. An expression is always evaluated and output is given after evaluation.\n   A statement is used to store values into variables.(Here value 10 is stored in      spam)\n    \n6. bacon still contains value 22 because bacon no new assignment is done to bacon variable.\n\n7. 'spamspamspam' (First is string concatenation while second is multiplying by a scalar/number)\n\n8. According to conventions of python the variable names can't start with numbers or special characters(except '_').\n\n9. int , float , str\n\n10. Concatenation of different data types is not allowed in python. Here 99 is int so it can't be concatenated with strings.\n\n",
      "metadata": {}
    }
  ]
}