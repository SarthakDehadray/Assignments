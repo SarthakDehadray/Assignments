{
  "metadata": {
    "language_info": {
      "codemirror_mode": {
        "name": "python",
        "version": 3
      },
      "file_extension": ".py",
      "mimetype": "text/x-python",
      "name": "python",
      "nbconvert_exporter": "python",
      "pygments_lexer": "ipython3",
      "version": "3.8"
    },
    "kernelspec": {
      "name": "python",
      "display_name": "Pyolite",
      "language": "python"
    }
  },
  "nbformat_minor": 4,
  "nbformat": 4,
  "cells": [
    {
      "cell_type": "markdown",
      "source": "1.  What are escape characters ?\n    \n    Escape Characters are used to insert strings which are illegal in python.\n    Eg \"This will \"give\" error.\"\n        \"This will not '\\give\\' an error\".\n    Some escape characters.\n    \\n   new line\n    \\t   tab\n    \\\\   backslash\n    \\r   carriage return ( Refer **** for instance)\n    \\b   backspace\n    \\f   form feed\n    \n    \n\n    \n\n\n    \n    \n\n    \n\n  \n    ",
      "metadata": {}
    },
    {
      "cell_type": "code",
      "source": "# ****\nk = 'sarthak\\rdehad'\nprint(k)",
      "metadata": {
        "trusted": true
      },
      "execution_count": 4,
      "outputs": [
        {
          "name": "stdout",
          "text": "dehadak\n",
          "output_type": "stream"
        }
      ]
    },
    {
      "cell_type": "markdown",
      "source": "2.  What do escape characters n and t stand for ?\n    \n    n stands for new line\n    t stands for tab\n    ",
      "metadata": {}
    },
    {
      "cell_type": "markdown",
      "source": "3.  What is the way to include backslash characters in a string ?\n    \n    \\\\ is used to include backslash for string.\n    ",
      "metadata": {}
    },
    {
      "cell_type": "markdown",
      "source": "4.  The string \"Howl's Moving Castle\" is a correct value. Why isn't the single quote character in the word Howl's not escaped a problem?\n\nAs the string is enclosed in double quotes the the single quote in Howl's does not escape into error as it is not interpreted as an escape sequence.\n",
      "metadata": {}
    },
    {
      "cell_type": "markdown",
      "source": "5.  How do you write a string of newlines if you don't want to use the n character?\n    \n    We hard code and write the strings in separate print statements itself.",
      "metadata": {}
    },
    {
      "cell_type": "markdown",
      "source": "6.  'e', 'Hello', 'Hello','lo,world!' (Refer 8-11 for execution)\n",
      "metadata": {}
    },
    {
      "cell_type": "code",
      "source": "'Hello,world!'[1]",
      "metadata": {
        "trusted": true
      },
      "execution_count": 8,
      "outputs": [
        {
          "execution_count": 8,
          "output_type": "execute_result",
          "data": {
            "text/plain": "'e'"
          },
          "metadata": {}
        }
      ]
    },
    {
      "cell_type": "code",
      "source": "'Hello,world!'[0:5]",
      "metadata": {
        "trusted": true
      },
      "execution_count": 9,
      "outputs": [
        {
          "execution_count": 9,
          "output_type": "execute_result",
          "data": {
            "text/plain": "'Hello'"
          },
          "metadata": {}
        }
      ]
    },
    {
      "cell_type": "code",
      "source": "'Hello,world!'[:5]",
      "metadata": {
        "trusted": true
      },
      "execution_count": 10,
      "outputs": [
        {
          "execution_count": 10,
          "output_type": "execute_result",
          "data": {
            "text/plain": "'Hello'"
          },
          "metadata": {}
        }
      ]
    },
    {
      "cell_type": "code",
      "source": "'Hello,world!'[3:]",
      "metadata": {
        "trusted": true
      },
      "execution_count": 11,
      "outputs": [
        {
          "execution_count": 11,
          "output_type": "execute_result",
          "data": {
            "text/plain": "'lo,world!'"
          },
          "metadata": {}
        }
      ]
    },
    {
      "cell_type": "markdown",
      "source": "7.  'HELLO' ,  True , hello (Refer 16-18 for execution)\n",
      "metadata": {}
    },
    {
      "cell_type": "code",
      "source": "'Hello'.upper()",
      "metadata": {
        "trusted": true
      },
      "execution_count": 16,
      "outputs": [
        {
          "execution_count": 16,
          "output_type": "execute_result",
          "data": {
            "text/plain": "'HELLO'"
          },
          "metadata": {}
        }
      ]
    },
    {
      "cell_type": "code",
      "source": "'Hello'.upper().isupper()",
      "metadata": {
        "trusted": true
      },
      "execution_count": 17,
      "outputs": [
        {
          "execution_count": 17,
          "output_type": "execute_result",
          "data": {
            "text/plain": "True"
          },
          "metadata": {}
        }
      ]
    },
    {
      "cell_type": "code",
      "source": "'Hello'.upper().lower()",
      "metadata": {
        "trusted": true
      },
      "execution_count": 18,
      "outputs": [
        {
          "execution_count": 18,
          "output_type": "execute_result",
          "data": {
            "text/plain": "'hello'"
          },
          "metadata": {}
        }
      ]
    },
    {
      "cell_type": "markdown",
      "source": "8. 'Remember,remember,the fifth of July'.split()\n    '-'.join(\"There can only be one.'.split())",
      "metadata": {}
    },
    {
      "cell_type": "code",
      "source": "'Remember,remember,the fifth of July'.split()",
      "metadata": {
        "trusted": true
      },
      "execution_count": 19,
      "outputs": [
        {
          "execution_count": 19,
          "output_type": "execute_result",
          "data": {
            "text/plain": "['Remember,remember,the', 'fifth', 'of', 'July']"
          },
          "metadata": {}
        }
      ]
    },
    {
      "cell_type": "code",
      "source": " '-'.join('There can only be one.'.split())",
      "metadata": {
        "trusted": true
      },
      "execution_count": 21,
      "outputs": [
        {
          "execution_count": 21,
          "output_type": "execute_result",
          "data": {
            "text/plain": "'There-can-only-be-one.'"
          },
          "metadata": {}
        }
      ]
    },
    {
      "cell_type": "markdown",
      "source": "9.  What are the methods for right justifying ,left justifying and centering a string?",
      "metadata": {}
    },
    {
      "cell_type": "code",
      "source": "k ='hello'\nk.ljust(10,'@')\n",
      "metadata": {
        "trusted": true
      },
      "execution_count": 25,
      "outputs": [
        {
          "execution_count": 25,
          "output_type": "execute_result",
          "data": {
            "text/plain": "'hello@@@@@'"
          },
          "metadata": {}
        }
      ]
    },
    {
      "cell_type": "code",
      "source": "k.rjust(10,'@')",
      "metadata": {
        "trusted": true
      },
      "execution_count": 26,
      "outputs": [
        {
          "execution_count": 26,
          "output_type": "execute_result",
          "data": {
            "text/plain": "'@@@@@hello'"
          },
          "metadata": {}
        }
      ]
    },
    {
      "cell_type": "code",
      "source": "k.center(10,'@')",
      "metadata": {
        "trusted": true
      },
      "execution_count": 27,
      "outputs": [
        {
          "execution_count": 27,
          "output_type": "execute_result",
          "data": {
            "text/plain": "'@@hello@@@'"
          },
          "metadata": {}
        }
      ]
    },
    {
      "cell_type": "code",
      "source": "s = '    This is string   '\ns.strip()",
      "metadata": {
        "trusted": true
      },
      "execution_count": 28,
      "outputs": [
        {
          "execution_count": 28,
          "output_type": "execute_result",
          "data": {
            "text/plain": "'This is string'"
          },
          "metadata": {}
        }
      ]
    },
    {
      "cell_type": "code",
      "source": "",
      "metadata": {},
      "execution_count": null,
      "outputs": []
    }
  ]
}