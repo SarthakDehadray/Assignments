{
  "metadata": {
    "language_info": {
      "codemirror_mode": {
        "name": "python",
        "version": 3
      },
      "file_extension": ".py",
      "mimetype": "text/x-python",
      "name": "python",
      "nbconvert_exporter": "python",
      "pygments_lexer": "ipython3",
      "version": "3.8"
    },
    "kernelspec": {
      "name": "python",
      "display_name": "Pyolite",
      "language": "python"
    }
  },
  "nbformat_minor": 4,
  "nbformat": 4,
  "cells": [
    {
      "cell_type": "markdown",
      "source": "1. a) Functions add modularity to the code.\n   b) They allow to avoid repetation of code.\n   \n2. It runs when it is called.\n\n3. def function_name(arguments):\n        block of code\n        \n4. function is a modular code.\n   function call: It is call to function to execute the code block written inside it.\n   \n5. There is a unique global scope whereas there can be any number of local scopes.\n\n6. Variables in local scope retain their value after the execution of the function completes.\n\n7. When the function is called it executes the code block written within it and returns the result explicitly / implicitly.\n\n8. None\n\n9.  by declaring it as global.\n\n10. None\n\n11. it imports the module with same name (if exists).\n\n12. from spam import bacon\n    \n13. Exception Handling can be used to avoid crash\n\n14. try clause tries to execute the block if \n\n",
      "metadata": {}
    }
  ]
}