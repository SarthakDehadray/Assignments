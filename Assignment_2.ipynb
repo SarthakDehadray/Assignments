{
  "metadata": {
    "language_info": {
      "codemirror_mode": {
        "name": "python",
        "version": 3
      },
      "file_extension": ".py",
      "mimetype": "text/x-python",
      "name": "python",
      "nbconvert_exporter": "python",
      "pygments_lexer": "ipython3",
      "version": "3.8"
    },
    "kernelspec": {
      "name": "python",
      "display_name": "Pyolite",
      "language": "python"
    }
  },
  "nbformat_minor": 4,
  "nbformat": 4,
  "cells": [
    {
      "cell_type": "markdown",
      "source": "1. True (Has value 1), False (Has value 0)\n\n2. and, or, not\n\n3. and operator\n\n    inp1  inp2  ouput\n    0      0      0\n    1      0      0\n    0      1      0\n    1      1      1\n    \n    or operator\n    \n    inp1  inp2  ouput\n    0      0      0\n    1      0      1\n    0      1      1\n    1      1      1\n    \n    not operator \n    \n    inp1  output  \n    0      1      \n    1      0   \n    \n4. False (True and False = False)\n\n   False\n   \n   True   ( True or False = True)\n   \n   False  ( False or False = False)\n   \n   False  (True and False = False)\n   \n   True   (True or False)\n   \n5. a) >  b) <  c) >=  d) <=  e) !=  f) ==\n\n6.  equal to (==) is comparison operator whereas assignment (=) operator is used in   statements.  == can be used in loops and = is used to assign variables.\n\n7.  Block 1     print('eggs')\n    Block 2     print('bacon')\n    Block 3     print(ham)\n                print(spam)\n                print(spam)\n   \n All blocks need to be indented as per the requirements of python.\n \n8. spam = int(input())\n    if spam == 1:\n        print(\"Hello\")\n    elif spam == 2:\n        print(\"Howdy\")\n    else:\n        print(\"Greetings\")\n        \n9. ctrl + c (In Classic Python IDE)\n \n10. break terminates the execution of following statements whereas continue sends the control to the beginning of the loop (both are used within loops).\n \n11. There is no difference (first argument is starting point which by default is 0,\n     second argument is ending point (excluding the ending point) and third argument        is step size).\n     \n12. for i in range(1,11):\n           print(i)\n           \n     i = 0\n     while i < 11:\n        print(i)\n        i = i + 1\n \n13. module.funtion (spam.bacon())\n\n",
      "metadata": {}
    }
  ]
}